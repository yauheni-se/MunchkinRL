{
 "cells": [
  {
   "cell_type": "code",
   "execution_count": null,
   "id": "7f2a7285",
   "metadata": {
    "ExecuteTime": {
     "end_time": "2022-10-18T20:13:16.645523Z",
     "start_time": "2022-10-18T20:13:16.629981Z"
    }
   },
   "outputs": [],
   "source": [
    "import numpy as np\n",
    "import pandas as pd\n",
    "from datetime import date\n",
    "import random\n",
    "import math"
   ]
  },
  {
   "cell_type": "code",
   "execution_count": null,
   "id": "d7dc9601",
   "metadata": {
    "ExecuteTime": {
     "end_time": "2022-10-18T20:13:18.157393Z",
     "start_time": "2022-10-18T20:13:18.149371Z"
    }
   },
   "outputs": [],
   "source": [
    "def roll_dice():\n",
    "    return(np.random.randint(1,7))\n",
    "\n",
    "def shuffle(df):\n",
    "    return(df.sample(frac=1).reset_index(drop=True))\n",
    "\n",
    "def take_cards(df, df_total, n=1):\n",
    "    if (df.shape[0] == 0):\n",
    "        df = shuffle(df_total)\n",
    "    card = df.head(n)\n",
    "    df.drop(index=df.index[:n], axis=0, inplace=True)\n",
    "    return(df, card)"
   ]
  },
  {
   "cell_type": "code",
   "execution_count": null,
   "id": "4e6fd660",
   "metadata": {
    "ExecuteTime": {
     "end_time": "2022-10-18T20:13:21.304490Z",
     "start_time": "2022-10-18T20:13:21.285896Z"
    },
    "code_folding": []
   },
   "outputs": [],
   "source": [
    "class Battle:\n",
    "    def __init__(self, player, monster):\n",
    "        self.monster = monster\n",
    "        self.player = player\n",
    "    def before_battle(self):\n",
    "        for i in range(self.player.statuses.shape[0]):\n",
    "            tmp_effects = self.player.statuses.loc[i, 'buffs'].split(';')\n",
    "            for j in tmp_effects:\n",
    "                eval(j)\n",
    "        for i in self.monster.before_battle:\n",
    "            if i != \"\":\n",
    "                eval(i)\n",
    "    def fight(self):\n",
    "        if (self.player.bonus > self.monster.level):\n",
    "            self.get_reward()\n",
    "        else:\n",
    "            while (self.player.decision['one_hot'] > self.player.coef['one_hot'] \n",
    "                   and '<there are one hots in the hand>'):\n",
    "                # select what cards and how many to use?\n",
    "                # how to actualize????\n",
    "                self.player.decision['one_hot'] -= (self.player.decision['one_hot'] *\n",
    "                                                    self.player.learning_rate['one_hot'])\n",
    "                # how to actualize????\n",
    "                if (self.player.bonus > self.monster.level):\n",
    "                    self.get_reward()\n",
    "                    break\n",
    "            if (self.player.bonus < self.monster.level):        \n",
    "                self.escape_after()\n",
    "    \n",
    "    def escape_after(self):\n",
    "        for i in self.monster.even_if_escaped:\n",
    "            if i != \"\":\n",
    "                eval(i)\n",
    "        if roll_dice()+self.player.escape < self.monster.escape:\n",
    "            self.get_bad_stuff()\n",
    "    def get_reward(self):\n",
    "        self.player.update_level(n=monster.reward_level)\n",
    "        self.player.update_hand(n=monster.reward_treasure,\n",
    "                                new=take_cards(df, df_total, n=monster.reward_treasure))\n",
    "        # !!!! somehow pass card decks + remove from deck -- maybe create another class:)\n",
    "    def get_bad_stuff(self):\n",
    "        for i in self.monster.bad_stuff:\n",
    "            if i != \"\":\n",
    "                eval(i)"
   ]
  },
  {
   "cell_type": "code",
   "execution_count": null,
   "id": "75647729",
   "metadata": {
    "ExecuteTime": {
     "end_time": "2022-10-18T20:13:26.556946Z",
     "start_time": "2022-10-18T20:13:26.533894Z"
    },
    "code_folding": []
   },
   "outputs": [],
   "source": [
    "class Monster:\n",
    "    def __init__(self, df):\n",
    "        self.name = df.name.iloc[0, ]\n",
    "        self.level = df.level.iloc[0, ]\n",
    "        self.undead = df.undead.iloc[0, ]\n",
    "        self.before_battle = str(df.before_battle.to_list()[0]).split(';')\n",
    "        self.even_if_escaped = str(df.even_if_escaped.to_list()[0]).split(';')\n",
    "        if df.escapable.iloc[0, ]:\n",
    "            self.escape = 4\n",
    "        else:\n",
    "            self.escape = 10e7\n",
    "        self.bad_stuff = df.bad_stuff.iloc[0, ].split(';')\n",
    "        self.reward_level = df.reward_level.iloc[0, ]\n",
    "        self.reward_treasure = df.reward_treasure.iloc[0, ]\n",
    "        self.multiplier = 1\n",
    "    def update_level(self, n, condition=None, update_type=None):\n",
    "        if update_type == 'monster_buff' and self.multiplier > 1:\n",
    "            n *= self.multiplier\n",
    "        if condition is None:\n",
    "            self.level += n\n",
    "        elif eval(condition):\n",
    "            self.level += n\n",
    "    def kill(self, condition=None, treasures=True, levels=True):\n",
    "        if condition is None:\n",
    "            self.level = -10e7\n",
    "        elif eval(condition):\n",
    "            self.level = -10e7\n",
    "            \n",
    "        if not treasures:\n",
    "            self.reward_treasure = 0\n",
    "        if not levels:\n",
    "            self.reward_level = 0\n",
    "    def update_escape(self, n, condition=None):\n",
    "        if condition is None:\n",
    "            self.escape += n\n",
    "        elif eval(condition):\n",
    "            self.escape += n\n",
    "    def update_multiplier(self, n):\n",
    "        self.multiplier += n\n",
    "    def update_treasures(self, n, condition=None):\n",
    "        if condition is None:\n",
    "            self.reward_treasure += n\n",
    "        elif eval(condition):\n",
    "            self.reward_treasure += n\n",
    "        \n",
    "        if self.reward_treasure < 0:\n",
    "            self.reward_treasure = 0\n",
    "    def update_reward_level(self, n, condition=None):\n",
    "        if condition is None:\n",
    "            self.reward_level += n\n",
    "        elif eval(condition):\n",
    "            self.reward_level += n"
   ]
  },
  {
   "cell_type": "code",
   "execution_count": null,
   "id": "2e67bcef",
   "metadata": {
    "ExecuteTime": {
     "end_time": "2022-10-18T20:13:28.897172Z",
     "start_time": "2022-10-18T20:13:28.864005Z"
    },
    "code_folding": [
     24,
     32,
     45,
     53,
     55,
     80,
     110,
     142,
     144,
     146,
     156
    ]
   },
   "outputs": [],
   "source": [
    "class Munchkin:\n",
    "    empty_treasure = pd.DataFrame(\n",
    "                dict(name=[], type=[], eq_type=[], big=[], restriction=[],\n",
    "                     bonus=[], hands=[], buffs=[], price=[], when_lose=[])\n",
    "            )\n",
    "    empty_hand = pd.DataFrame(\n",
    "                dict(name=[], type=[], eq_type=[], big=[], restriction=[],\n",
    "                     bonus=[], hands=[], buffs=[], price=[], when_lose=[])\n",
    "            )\n",
    "    empty_statuses = pd.DataFrame(dict(name=[], type=[], buffs=[], when_vanish=[]))\n",
    "    \n",
    "    def __init__(self, name='John Doe', sex='female', level=1, pclass=[], race=['human'],\n",
    "                 hand=empty_hand, equiped=empty_treasure, statuses=empty_statuses):\n",
    "        self.name = name\n",
    "        self.sex = sex\n",
    "        self.pclass = pclass\n",
    "        self.race = race\n",
    "        self.level = level\n",
    "        self.escape = 0\n",
    "        self.bonus = level\n",
    "        self.equiped = equiped\n",
    "        self.hand = hand\n",
    "        self.limits = dict(armor=1, boots=1, head=1, hands=2, big=1, cards=5)\n",
    "        self.statuses = statuses\n",
    "    def update_level(self, n, condition=None, update_type='fight'):\n",
    "        if condition is None:\n",
    "            self.level += n\n",
    "        elif eval(condition):\n",
    "            self.level += n\n",
    "        \n",
    "        if self.level < 1:\n",
    "            self.level = 1\n",
    "    def update_pclass_race(self, what, n=1, which=None, make_decision=False):\n",
    "        if n == -1 and make_decision:\n",
    "            which = self.make_decision('lose_pclass_race', choices=what, n=abs(n))\n",
    "            eval('self.'+what+'.pop(which)')\n",
    "        elif n == -1 and not(make_decision):\n",
    "            eval('self.'+what+'.pop(self.'+what+'.index(which))')\n",
    "        elif n == -2:\n",
    "            eval('self.'+what+'.clear()')\n",
    "        elif n > 0:\n",
    "            which = self.make_decision('add_pclass_race', choices=what, n=abs(n))\n",
    "            eval('self.'+what+'.extend(which)')\n",
    "        if what=='race' and len(self.race) == 0:\n",
    "            self.race = ['human']\n",
    "    def update_sex(self, change=False):\n",
    "        if change == False:\n",
    "            if self.sex == 'male':\n",
    "                self.sex = 'female'\n",
    "            else:\n",
    "                self.sex = 'male'\n",
    "        else:\n",
    "            self.sex = 'none'\n",
    "    def update_limit(self, which, n):\n",
    "        self.limits[which] += n\n",
    "    def update_hand(self, n=None, condition=None, everything=False, make_decision=True,\n",
    "                    give=False, make_decision_give=False, new=None):\n",
    "        if n > 0:\n",
    "            self.hand = pd.concat([self.hand, new]).reset_index(drop=True)\n",
    "        else:\n",
    "            if everything:\n",
    "                hand_shortened = empty_hand\n",
    "                hand_to_give = self.hand\n",
    "                make_decision = False\n",
    "            elif condition is not None:\n",
    "                hand_shortened = self.hand.loc[~eval(condition), :].reset_index(drop=True).copy()\n",
    "                hand_to_give = self.hand.loc[eval(condition), :].reset_index(drop=True).copy()\n",
    "            else:\n",
    "                hand_shortened = self.hand\n",
    "                hand_to_give = empty_hand\n",
    "        \n",
    "            if make_decision:\n",
    "                which = self.make_decision('lose_card', choices='hand', n=n)\n",
    "                hand_shortened = hand_shortened.iloc[~which, :].reset_index(drop=True)\n",
    "                hand_to_give = pd.concat(\n",
    "                    [hand_to_give,hand_shortened.iloc[which, :].reset_index(drop=True)]\n",
    "                )\n",
    "            if give:\n",
    "                self.give(hand_to_give, make_decision_give)\n",
    "            self.hand = hand_shortened\n",
    "    def lose_equiped(self, n=None, condition=None, everything=False, make_decision=True,\n",
    "                     give=False, make_decision_give=False):\n",
    "        if everything:\n",
    "            equipted_shortened = empty_treasure\n",
    "            equipted_to_give = self.equiped\n",
    "            make_decision = False\n",
    "        elif condition is not None:\n",
    "            equipted_shortened = self.equiped.loc[~eval(condition), :].reset_index(drop=True).copy()\n",
    "            equipted_to_give = self.equiped.loc[eval(condition), :].reset_index(drop=True).copy()\n",
    "        else:\n",
    "            equipted_shortened = self.equiped\n",
    "            equipted_to_give = empty_treasure\n",
    "        \n",
    "        if make_decision:\n",
    "            which = self.make_decision('lose_card', choices='equiped', n=n)\n",
    "            equipted_shortened = equipted_shortened.iloc[~which, :].reset_index(drop=True)\n",
    "            equipted_to_give = pd.concat(\n",
    "                [equipted_to_give,\n",
    "                 equipted_shortened.iloc[which, :].reset_index(drop=True)]\n",
    "            )\n",
    "        \n",
    "        if give:\n",
    "            self.give(equipted_to_give, make_decision_give)\n",
    "        \n",
    "        tmp_lst = equipted_to_give.when_lose[equipted_to_give.when_lose.notnull()]\n",
    "        tmp_lst = list(map(lambda x: x.split(';'), tmp_lst))\n",
    "        tmp_lst = [item for sublist in tmp_lst for item in sublist]\n",
    "        for i in tmp_lst:\n",
    "            eval(i)\n",
    "        self.equiped = equipted_shortened\n",
    "    def equip(self):\n",
    "        what = self.make_decision('equip_what')\n",
    "        tmp_to_equip = self.hand.iloc[what, :].reset_index(drop=True).copy()\n",
    "        tmp_to_equip_con = pd.concat([self.equipted, tmp_to_equip])\n",
    "        check_limits = (\n",
    "            tmp_to_equip_con[tmp_to_equip_con.eq_type == 'armor'].shape[0] < self.limits['armor'] and\n",
    "            tmp_to_equip_con[tmp_to_equip_con.eq_type== 'boots'].shape[0] < self.limits['boots'] and\n",
    "            tmp_to_equip_con[tmp_to_equip_con.eq_type == 'head'].shape[0] < self.limits['head'] and\n",
    "            tmp_to_equip_con[tmp_to_equip_con.eq_type == True].shape[0] < self.limits['big'] and\n",
    "            tmp_to_equip_con.eq_type.hands.sum() < self.limits['hands']\n",
    "        )\n",
    "        tmp_lst = tmp_to_equip.loc[tmp_to_equip.eq_type != 'one_shot'].restriction\n",
    "        tmp_lst = tmp_lst[tmp_lst.notnull()].to_list()\n",
    "        tmp_lst = list(map(lambda x: x.split(';'), tmp_lst))\n",
    "        tmp_lst = [item for sublist in tmp_lst for item in sublist]\n",
    "        restrictiontions_check = []\n",
    "        for i in tmp_lst:\n",
    "            restrictiontions_check.append(eval(i))\n",
    "        \n",
    "        if check_limits and all(restrictiontions_check):\n",
    "            #eval effects:\n",
    "            tmp_lst = tmp_to_equip.loc[tmp_to_equip.eq_type != 'one_shot'].buffs\n",
    "            tmp_lst = tmp_lst[tmp_lst.notnull()].to_list()\n",
    "            tmp_lst = list(map(lambda x: x.split(';'), tmp_lst))\n",
    "            tmp_lst = [item for sublist in tmp_lst for item in sublist]\n",
    "            for i in tmp_lst:\n",
    "                eval(i)\n",
    "            self.equipted = tmp_to_equip_con\n",
    "            self.hand = self.hand.iloc[~self.hand.index.isin(what), :].reset_index(drop=True)\n",
    "    def add_status(self, name, when_vanish):\n",
    "        # add statuses\n",
    "        pass\n",
    "    def update_bonus(self, n):\n",
    "        self.bonus += n\n",
    "    def update_escape(self, n):\n",
    "        self.escape += n\n",
    "    def die(self, marauder=True):\n",
    "        equipted_to_give = pd.concat([self.hand, self.equiped])\n",
    "        self.equiped = empty_treasure\n",
    "        self.hand = empty_hand\n",
    "        if marauder:\n",
    "            self.give(equipted_to_give)\n",
    "    def give(self, what, make_decision=False):\n",
    "        pass\n",
    "    def upgrade_equipted(self):\n",
    "        pass\n",
    "    def make_decision(self, what, choices=None, n=None):\n",
    "        decision = []\n",
    "        if what == 'fight':\n",
    "            decision = np.where(roll_dice()>=3, True, False)\n",
    "        elif what == 'bad_stuff':\n",
    "            decision = np.where(roll_dice()>=3, True, False)\n",
    "        elif what == 'lose_card':\n",
    "            if choices == 'hand':\n",
    "                decision = [random.randint(0, self.hand.shape[0]-1) for i in range(n)]\n",
    "            elif choices == 'equiped':\n",
    "                decision = [random.randint(0, self.equiped.shape[0]-1) for i in range(n)]\n",
    "        elif what == 'lose_pclass_race':\n",
    "            if choices == 'race':\n",
    "                decision = random.randint(0, len(self.race)-1)\n",
    "            elif choices == 'pclass':\n",
    "                decision = random.randint(0, len(self.pclass)-1)\n",
    "        elif what == 'give':\n",
    "            if choices == 'hand':\n",
    "                decision = [random.randint(0, self.hand.shape[0]-1) for i in range(n)]\n",
    "            elif choices == 'equiped':\n",
    "                decision = [random.randint(0, self.equiped.shape[0]-1) for i in range(n)]\n",
    "        else:\n",
    "            decision = []\n",
    "        return decision\n",
    "        # add_pclass_race -- which pclass / race to add\n",
    "        # give -- which card(s) to give\n",
    "        # one_shot -- use or not\n",
    "        # one_shot-what -- what to use\n",
    "        # sell - to sell or not\n",
    "        # sell_what -- what to sell\n",
    "        # equip - to equip or not\n",
    "        # equip_what\n",
    "    def add_status(self, what):\n",
    "        self.statuses = pd.concat(\n",
    "            [self.statuses, GLOBAL_STATUSES.loc[GLOBAL_STATUSES.name == what, :]]\n",
    "        ).reset_index(drop=True)\n",
    "    def remove_status(self, what):\n",
    "        self.statuses = self.statuses.loc[self.statuses.name != what, :].reset_index(drop=True)"
   ]
  },
  {
   "cell_type": "code",
   "execution_count": null,
   "id": "bc20bbd6",
   "metadata": {
    "ExecuteTime": {
     "end_time": "2022-10-18T20:13:31.632150Z",
     "start_time": "2022-10-18T20:13:31.421600Z"
    }
   },
   "outputs": [],
   "source": [
    "GLOBAL_STUFF_FLAME = ['hot_pepper_sauce', 'flaming_armor', 'oil_of_boiling']\n",
    "GLOBAL_STUFF_BELOW_ARMOR = ['spiky_knees', 'kneepads_of_allure', 'spiked_codpiece']\n",
    "GLOBAL_MONSTER_GRASS = ['poison_ivy_kudzu_flytrap', 'potted_plant', 'redneck_tree']\n",
    "GLOBAL_LEVEL_MIN = 0\n",
    "GLOBAL_LEVEL_MAX = 0\n",
    "GLOBAL_STATUSES = pd.read_excel('example.xlsx', sheet_name='statuses')\n",
    "\n",
    "monsters = pd.read_excel('example.xlsx', sheet_name='monsters')\n",
    "curses = pd.read_excel('example.xlsx', sheet_name='curses')\n",
    "races = pd.read_excel('example.xlsx', sheet_name='races')\n",
    "classes = pd.read_excel('example.xlsx', sheet_name='classes')\n",
    "doors_other = pd.read_excel('example.xlsx', sheet_name='doors_other')\n",
    "dect_doors = pd.concat([monsters, curses, races, classes, doors_other]).reset_index(drop=True)\n",
    "deck_treasures = pd.read_excel('example.xlsx', sheet_name='treasures')\n",
    "\n",
    "dect_doors = shuffle(dect_doors)\n",
    "deck_treasures = shuffle(deck_treasures)\n",
    "\n",
    "dect_doors_current = dect_doors.copy()\n",
    "deck_treasures_current = deck_treasures.copy()\n",
    "\n",
    "player_1 = Munchkin()"
   ]
  },
  {
   "cell_type": "code",
   "execution_count": null,
   "id": "d45ba384",
   "metadata": {
    "ExecuteTime": {
     "end_time": "2022-10-17T21:09:11.886584Z",
     "start_time": "2022-10-17T21:09:11.876483Z"
    }
   },
   "outputs": [],
   "source": [
    "dect_doors_current, door_card = take_cards(dect_doors_current, dect_doors, 1)\n",
    "door_card['type'].tolist()[0] == 'monster'"
   ]
  },
  {
   "cell_type": "code",
   "execution_count": null,
   "id": "1c05d286",
   "metadata": {
    "ExecuteTime": {
     "end_time": "2022-10-18T20:10:52.271886Z",
     "start_time": "2022-10-18T20:10:52.254367Z"
    }
   },
   "outputs": [],
   "source": [
    "GLOBAL_STATUSES.loc[0, 'buffs']\n",
    "#for i in range(player_1.statuses\n",
    "#for i in range(GLOBAL_STATUSES.shape[0]):\n",
    "    #print(i)\n",
    "    #print(GLOBAL_STATUSES.iloc[i, ['name']])"
   ]
  },
  {
   "cell_type": "code",
   "execution_count": null,
   "id": "3627a76f",
   "metadata": {
    "ExecuteTime": {
     "end_time": "2022-10-18T20:04:37.539945Z",
     "start_time": "2022-10-18T20:04:37.524935Z"
    }
   },
   "outputs": [],
   "source": [
    "door_card"
   ]
  },
  {
   "cell_type": "code",
   "execution_count": null,
   "id": "9d03675e",
   "metadata": {
    "ExecuteTime": {
     "end_time": "2022-10-18T20:15:08.779653Z",
     "start_time": "2022-10-18T20:15:08.758590Z"
    }
   },
   "outputs": [],
   "source": [
    "current_monster = Monster(door_card)\n",
    "current_player = Munchkin(sex='male',\n",
    "                          pclass=['warrior'],\n",
    "                          race = ['human', 'orc'],\n",
    "                          level = 9,\n",
    "                          equiped=pd.DataFrame(dict(\n",
    "                              name=['spiked_codpiece'],\n",
    "                              type=['treasure'],\n",
    "                              eq_type=['other'],\n",
    "                              big=[False],\n",
    "                              restriction=[''],\n",
    "                              bonus=[1], hands=[''],\n",
    "                              buffs=[''], price=[''], when_lose=[''])\n",
    "            ))\n",
    "print(\"name: \", current_monster.name)\n",
    "print(\"level: \", current_monster.level)\n",
    "print(current_monster.before_battle)\n",
    "print(current_monster.even_if_escaped)\n",
    "print(current_monster.bad_stuff)\n",
    "#current_monster.even_if_escaped = [\"\"]\n",
    "current_monster.before_battle = [\n",
    "    \"self.monster.update_level(+5) if 'orc' in self.player.race else ''\",\n",
    "    \"self.monster.update_level(+5) if 'warrior'  in self.player.pclass else ''\"\n",
    "]\n",
    "#current_monster.bad_stuff = [\"self.player.update_pclass_race('race', n=-1, make_decision=True)\"]"
   ]
  },
  {
   "cell_type": "code",
   "execution_count": null,
   "id": "1254c048",
   "metadata": {
    "ExecuteTime": {
     "end_time": "2022-10-18T20:16:35.184484Z",
     "start_time": "2022-10-18T20:16:35.171477Z"
    }
   },
   "outputs": [],
   "source": [
    "current_player.statuses"
   ]
  },
  {
   "cell_type": "code",
   "execution_count": null,
   "id": "9d213416",
   "metadata": {
    "ExecuteTime": {
     "end_time": "2022-10-18T20:16:33.122781Z",
     "start_time": "2022-10-18T20:16:33.101521Z"
    },
    "scrolled": true
   },
   "outputs": [],
   "source": [
    "current_battle = Battle(current_player, current_monster)\n",
    "current_battle.before_battle()\n",
    "print(current_player.statuses)\n",
    "current_battle.escape_after()\n",
    "print(current_player.statuses)\n",
    "print(current_monster.level)\n",
    "print(current_monster.escape)\n",
    "print(current_player.race)\n",
    "\n",
    "# write functions for redneck tree:\n",
    "# set_status\n",
    "# eval player statuses before battle\n",
    "\n"
   ]
  },
  {
   "cell_type": "code",
   "execution_count": null,
   "id": "056ca591",
   "metadata": {
    "ExecuteTime": {
     "end_time": "2022-10-17T21:02:44.021182Z",
     "start_time": "2022-10-17T21:02:44.012559Z"
    }
   },
   "outputs": [],
   "source": [
    "current_player.update_pclass_race('race', n=-1, make_decision=True)\n",
    "#current_player.race.pop(1)\n",
    "#current_player.make_decision('lose_pclass_race', choices='race', n=abs(-1))\n",
    "#current_player.race\n",
    "#n = abs(-1)\n",
    "#current_player.race\n",
    "#[random.randint(0, current_player.hand.shape[0]-1) for i in range(n)]"
   ]
  },
  {
   "cell_type": "code",
   "execution_count": null,
   "id": "1b1de7b7",
   "metadata": {
    "ExecuteTime": {
     "end_time": "2022-10-12T16:43:57.275252Z",
     "start_time": "2022-10-12T16:43:56.966415Z"
    },
    "code_folding": []
   },
   "outputs": [],
   "source": [
    "#self.decisions = dict(fight=1, one_hot=1, auto_escape=1)\n",
    "#self.coefs = dict(fight=0.5, one_hot=0.5, auto_escape=0.1)\n",
    "#self.learning_rate = dict(fight=0.005, one_hot=0.005, auto_escape=0.005)\n",
    "# Set queue:\n",
    "current_player = player_1\n",
    "fight_coef = 0.5\n",
    "\n",
    "# Prepare:\n",
    "# sell\n",
    "# equip\n",
    "\n",
    "# Main game:\n",
    "dect_doors_current, door_card = take_cards(dect_doors_current, dect_doors, 1)\n",
    "if door_card['type'].tolist()[0] == 'monster':\n",
    "    print('Battle begins..')\n",
    "    # current_monster = Monster(door_card)\n",
    "    # current_player = Battle(current_player, current_monster).escape_before().fight().player\n",
    "elif door_card['type'].tolist()[0] == 'curse':\n",
    "    print('Curse..')\n",
    "    #current_player.curse(door_card)\n",
    "# if bozestwennoye wmeszatelstwo\n",
    "else:\n",
    "    print('Taking door card..')\n",
    "    current_player.update_hand(n=1, h_type='doors', new=door_card)\n",
    "    dect_doors.drop(dect_doors[dect_doors.name!=door_card.name[0]].index, inplace=True)\n",
    "    if (current_player.decisions['fight'] > fight_coef and \n",
    "    'monster' in current_player.hand['doors']['type'].tolist()):\n",
    "        print('Battle begins..')\n",
    "        current_player = battle(current_player, 'which to fight???') # !!!!!!!!!!!!!!!!!!!!\n",
    "    else:\n",
    "        print('Taking door card..')\n",
    "        dect_doors_current, door_card = take_cards(dect_doors_current, dect_doors, 1)\n",
    "        current_player.update_hand(n=1, h_type='doors', new=door_card)\n",
    "        dect_doors.drop(dect_doors[dect_doors.name!=door_card.name[0]].index, inplace=True)\n",
    "        \n",
    "# Finalize:\n",
    "# Update decisions:\n",
    "# Check convergence:"
   ]
  }
 ],
 "metadata": {
  "kernelspec": {
   "display_name": "Python 3 (ipykernel)",
   "language": "python",
   "name": "python3"
  },
  "language_info": {
   "codemirror_mode": {
    "name": "ipython",
    "version": 3
   },
   "file_extension": ".py",
   "mimetype": "text/x-python",
   "name": "python",
   "nbconvert_exporter": "python",
   "pygments_lexer": "ipython3",
   "version": "3.10.0"
  },
  "toc": {
   "base_numbering": 1,
   "nav_menu": {},
   "number_sections": true,
   "sideBar": true,
   "skip_h1_title": false,
   "title_cell": "Table of Contents",
   "title_sidebar": "Contents",
   "toc_cell": false,
   "toc_position": {},
   "toc_section_display": true,
   "toc_window_display": false
  },
  "varInspector": {
   "cols": {
    "lenName": 16,
    "lenType": 16,
    "lenVar": 40
   },
   "kernels_config": {
    "python": {
     "delete_cmd_postfix": "",
     "delete_cmd_prefix": "del ",
     "library": "var_list.py",
     "varRefreshCmd": "print(var_dic_list())"
    },
    "r": {
     "delete_cmd_postfix": ") ",
     "delete_cmd_prefix": "rm(",
     "library": "var_list.r",
     "varRefreshCmd": "cat(var_dic_list()) "
    }
   },
   "types_to_exclude": [
    "module",
    "function",
    "builtin_function_or_method",
    "instance",
    "_Feature"
   ],
   "window_display": false
  }
 },
 "nbformat": 4,
 "nbformat_minor": 5
}
