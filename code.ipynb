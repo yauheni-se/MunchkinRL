{
 "cells": [
  {
   "cell_type": "code",
   "execution_count": 1,
   "id": "7f2a7285",
   "metadata": {
    "ExecuteTime": {
     "end_time": "2022-10-17T20:13:43.420311Z",
     "start_time": "2022-10-17T20:13:42.535533Z"
    }
   },
   "outputs": [],
   "source": [
    "import numpy as np\n",
    "import pandas as pd\n",
    "from datetime import date\n",
    "import random\n",
    "import math"
   ]
  },
  {
   "cell_type": "code",
   "execution_count": 2,
   "id": "d7dc9601",
   "metadata": {
    "ExecuteTime": {
     "end_time": "2022-10-17T20:13:44.062984Z",
     "start_time": "2022-10-17T20:13:44.048413Z"
    }
   },
   "outputs": [],
   "source": [
    "def roll_dice():\n",
    "    return(np.random.randint(1,7))\n",
    "\n",
    "def shuffle(df):\n",
    "    return(df.sample(frac=1).reset_index(drop=True))\n",
    "\n",
    "def take_cards(df, df_total, n=1):\n",
    "    if (df.shape[0] == 0):\n",
    "        df = shuffle(df_total)\n",
    "    card = df.head(n)\n",
    "    df.drop(index=df.index[:n], axis=0, inplace=True)\n",
    "    return(df, card)"
   ]
  },
  {
   "cell_type": "code",
   "execution_count": 85,
   "id": "4e6fd660",
   "metadata": {
    "ExecuteTime": {
     "end_time": "2022-10-17T20:43:55.282926Z",
     "start_time": "2022-10-17T20:43:55.267856Z"
    },
    "code_folding": []
   },
   "outputs": [],
   "source": [
    "class Battle:\n",
    "    def __init__(self, player, monster):\n",
    "        self.monster = monster\n",
    "        self.player = player\n",
    "    def before_battle(self):\n",
    "        for i in self.monster.before_battle:\n",
    "            if i != \"\":\n",
    "                eval(i)\n",
    "    def fight(self):\n",
    "        if (self.player.bonus > self.monster.level):\n",
    "            self.get_reward()\n",
    "        else:\n",
    "            while (self.player.decision['one_hot'] > self.player.coef['one_hot'] \n",
    "                   and '<there are one hots in the hand>'):\n",
    "                # select what cards and how many to use?\n",
    "                # how to actualize????\n",
    "                self.player.decision['one_hot'] -= (self.player.decision['one_hot'] *\n",
    "                                                    self.player.learning_rate['one_hot'])\n",
    "                # how to actualize????\n",
    "                if (self.player.bonus > self.monster.level):\n",
    "                    self.get_reward()\n",
    "                    break\n",
    "            if (self.player.bonus < self.monster.level):        \n",
    "                self.escape_after()\n",
    "    \n",
    "    def escape_after(self):\n",
    "        for i in self.monster.even_if_escaped:\n",
    "            if i != \"\":\n",
    "                eval(i)\n",
    "        if roll_dice()+self.player.escape < self.monster.escape:\n",
    "            self.get_bad_stuff()\n",
    "    def get_reward(self):\n",
    "        self.player.update_level(n=monster.reward_level)\n",
    "        self.player.update_hand(n=monster.reward_treasure,\n",
    "                                new=take_cards(df, df_total, n=monster.reward_treasure))\n",
    "        # !!!! somehow pass card decks + remove from deck -- maybe create another class:)\n",
    "    def get_bad_stuff(self):\n",
    "        for i in self.monster.bad_stuff:\n",
    "            if i != \"\":\n",
    "                eval(i)"
   ]
  },
  {
   "cell_type": "code",
   "execution_count": 79,
   "id": "75647729",
   "metadata": {
    "ExecuteTime": {
     "end_time": "2022-10-17T20:42:02.945144Z",
     "start_time": "2022-10-17T20:42:02.738108Z"
    },
    "code_folding": []
   },
   "outputs": [],
   "source": [
    "class Monster:\n",
    "    def __init__(self, df):\n",
    "        self.name = df.name.iloc[0, ]\n",
    "        self.level = df.level.iloc[0, ]\n",
    "        self.undead = df.undead.iloc[0, ]\n",
    "        self.before_battle = str(df.before_battle.to_list()[0]).split(';')\n",
    "        self.even_if_escaped = str(df.even_if_escaped.to_list()[0]).split(';')\n",
    "        if df.escapable.iloc[0, ]:\n",
    "            self.escape = 4\n",
    "        else:\n",
    "            self.escape = 10e7\n",
    "        self.bad_stuff = df.bad_stuff.iloc[0, ].split(';')\n",
    "        self.reward_level = df.reward_level.iloc[0, ]\n",
    "        self.reward_treasure = df.reward_treasure.iloc[0, ]\n",
    "        self.multiplier = 1\n",
    "    def update_level(self, n, condition=None, update_type=None):\n",
    "        if update_type == 'monster_buff' and self.multiplier > 1:\n",
    "            n *= self.multiplier\n",
    "        if condition is None:\n",
    "            self.level += n\n",
    "        elif eval(condition):\n",
    "            self.level += n\n",
    "    def kill(self, condition=None, treasures=True, levels=True):\n",
    "        if condition is None:\n",
    "            self.level = -10e7\n",
    "        elif eval(condition):\n",
    "            self.level = -10e7\n",
    "            \n",
    "        if not treasures:\n",
    "            self.reward_treasure = 0\n",
    "        if not levels:\n",
    "            self.reward_level = 0\n",
    "    def update_escape(self, n, condition=None):\n",
    "        if condition is None:\n",
    "            self.escape += n\n",
    "        elif eval(condition):\n",
    "            self.escape += n\n",
    "    def update_multiplier(self, n):\n",
    "        self.multiplier += n\n",
    "    def update_treasures(self, n, condition=None):\n",
    "        if condition is None:\n",
    "            self.reward_treasure += n\n",
    "        elif eval(condition):\n",
    "            self.reward_treasure += n\n",
    "        \n",
    "        if self.reward_treasure < 0:\n",
    "            self.reward_treasure = 0\n",
    "    def update_reward_level(self, n, condition=None):\n",
    "        if condition is None:\n",
    "            self.reward_level += n\n",
    "        elif eval(condition):\n",
    "            self.reward_level += n"
   ]
  },
  {
   "cell_type": "code",
   "execution_count": 156,
   "id": "2e67bcef",
   "metadata": {
    "ExecuteTime": {
     "end_time": "2022-10-17T21:02:35.157795Z",
     "start_time": "2022-10-17T21:02:34.951250Z"
    },
    "code_folding": [
     9,
     22,
     43,
     53,
     78,
     108,
     140,
     142,
     144
    ]
   },
   "outputs": [],
   "source": [
    "class Munchkin:\n",
    "    empty_treasure = pd.DataFrame(\n",
    "                dict(name=[], type=[], eq_type=[], big=[], restriction=[],\n",
    "                     bonus=[], hands=[], buffs=[], price=[], when_lose=[])\n",
    "            )\n",
    "    empty_hand = pd.DataFrame(\n",
    "                dict(name=[], type=[], eq_type=[], big=[], restriction=[],\n",
    "                     bonus=[], hands=[], buffs=[], price=[], when_lose=[])\n",
    "            )\n",
    "    def __init__(self, name='John Doe', sex='female', level=1, pclass=[], race=['human'],\n",
    "                 hand=empty_hand, equiped=empty_treasure):\n",
    "        self.name = name\n",
    "        self.sex = sex\n",
    "        self.pclass = pclass\n",
    "        self.race = race\n",
    "        self.level = level\n",
    "        self.escape = 0\n",
    "        self.bonus = level\n",
    "        self.equiped = equiped\n",
    "        self.hand = hand\n",
    "        self.limits = dict(armor=1, boots=1, head=1, hands=2, big=1, cards=5)\n",
    "        self.statuses = pd.DataFrame()\n",
    "    def update_level(self, n, condition=None, update_type='fight'):\n",
    "        if condition is None:\n",
    "            self.level += n\n",
    "        elif eval(condition):\n",
    "            self.level += n\n",
    "        \n",
    "        if self.level < 1:\n",
    "            self.level = 1\n",
    "    def update_pclass_race(self, what, n=1, which=None, make_decision=False):\n",
    "        if n == -1 and make_decision:\n",
    "            which = self.make_decision('lose_pclass_race', choices=what, n=abs(n))\n",
    "            eval('self.'+what+'.pop(which)')\n",
    "        elif n == -1 and not(make_decision):\n",
    "            eval('self.'+what+'.pop(self.'+what+'.index(which))')\n",
    "        elif n == -2:\n",
    "            eval('self.'+what+'.clear()')\n",
    "        elif n > 0:\n",
    "            which = self.make_decision('add_pclass_race', choices=what, n=abs(n))\n",
    "            eval('self.'+what+'.extend(which)')\n",
    "        if what=='race' and len(self.race) == 0:\n",
    "            self.race = ['human']\n",
    "    def update_sex(self, change=False):\n",
    "        if change == False:\n",
    "            if self.sex == 'male':\n",
    "                self.sex = 'female'\n",
    "            else:\n",
    "                self.sex = 'male'\n",
    "        else:\n",
    "            self.sex = 'none'\n",
    "    def update_limit(self, which, n):\n",
    "        self.limits[which] += n\n",
    "    def update_hand(self, n=None, condition=None, everything=False, make_decision=True,\n",
    "                    give=False, make_decision_give=False, new=None):\n",
    "        if n > 0:\n",
    "            self.hand = pd.concat([self.hand, new]).reset_index(drop=True)\n",
    "        else:\n",
    "            if everything:\n",
    "                hand_shortened = empty_hand\n",
    "                hand_to_give = self.hand\n",
    "                make_decision = False\n",
    "            elif condition is not None:\n",
    "                hand_shortened = self.hand.loc[~eval(condition), :].reset_index(drop=True).copy()\n",
    "                hand_to_give = self.hand.loc[eval(condition), :].reset_index(drop=True).copy()\n",
    "            else:\n",
    "                hand_shortened = self.hand\n",
    "                hand_to_give = empty_hand\n",
    "        \n",
    "            if make_decision:\n",
    "                which = self.make_decision('lose_card', choices='hand', n=n)\n",
    "                hand_shortened = hand_shortened.iloc[~which, :].reset_index(drop=True)\n",
    "                hand_to_give = pd.concat(\n",
    "                    [hand_to_give,hand_shortened.iloc[which, :].reset_index(drop=True)]\n",
    "                )\n",
    "            if give:\n",
    "                self.give(hand_to_give, make_decision_give)\n",
    "            self.hand = hand_shortened\n",
    "    def lose_equiped(self, n=None, condition=None, everything=False, make_decision=True,\n",
    "                     give=False, make_decision_give=False):\n",
    "        if everything:\n",
    "            equipted_shortened = empty_treasure\n",
    "            equipted_to_give = self.equiped\n",
    "            make_decision = False\n",
    "        elif condition is not None:\n",
    "            equipted_shortened = self.equiped.loc[~eval(condition), :].reset_index(drop=True).copy()\n",
    "            equipted_to_give = self.equiped.loc[eval(condition), :].reset_index(drop=True).copy()\n",
    "        else:\n",
    "            equipted_shortened = self.equiped\n",
    "            equipted_to_give = empty_treasure\n",
    "        \n",
    "        if make_decision:\n",
    "            which = self.make_decision('lose_card', choices='equiped', n=n)\n",
    "            equipted_shortened = equipted_shortened.iloc[~which, :].reset_index(drop=True)\n",
    "            equipted_to_give = pd.concat(\n",
    "                [equipted_to_give,\n",
    "                 equipted_shortened.iloc[which, :].reset_index(drop=True)]\n",
    "            )\n",
    "        \n",
    "        if give:\n",
    "            self.give(equipted_to_give, make_decision_give)\n",
    "        \n",
    "        tmp_lst = equipted_to_give.when_lose[equipted_to_give.when_lose.notnull()]\n",
    "        tmp_lst = list(map(lambda x: x.split(';'), tmp_lst))\n",
    "        tmp_lst = [item for sublist in tmp_lst for item in sublist]\n",
    "        for i in tmp_lst:\n",
    "            eval(i)\n",
    "        self.equiped = equipted_shortened\n",
    "    def equip(self):\n",
    "        what = self.make_decision('equip_what')\n",
    "        tmp_to_equip = self.hand.iloc[what, :].reset_index(drop=True).copy()\n",
    "        tmp_to_equip_con = pd.concat([self.equipted, tmp_to_equip])\n",
    "        check_limits = (\n",
    "            tmp_to_equip_con[tmp_to_equip_con.eq_type == 'armor'].shape[0] < self.limits['armor'] and\n",
    "            tmp_to_equip_con[tmp_to_equip_con.eq_type== 'boots'].shape[0] < self.limits['boots'] and\n",
    "            tmp_to_equip_con[tmp_to_equip_con.eq_type == 'head'].shape[0] < self.limits['head'] and\n",
    "            tmp_to_equip_con[tmp_to_equip_con.eq_type == True].shape[0] < self.limits['big'] and\n",
    "            tmp_to_equip_con.eq_type.hands.sum() < self.limits['hands']\n",
    "        )\n",
    "        tmp_lst = tmp_to_equip.loc[tmp_to_equip.eq_type != 'one_shot'].restriction\n",
    "        tmp_lst = tmp_lst[tmp_lst.notnull()].to_list()\n",
    "        tmp_lst = list(map(lambda x: x.split(';'), tmp_lst))\n",
    "        tmp_lst = [item for sublist in tmp_lst for item in sublist]\n",
    "        restrictiontions_check = []\n",
    "        for i in tmp_lst:\n",
    "            restrictiontions_check.append(eval(i))\n",
    "        \n",
    "        if check_limits and all(restrictiontions_check):\n",
    "            #eval effects:\n",
    "            tmp_lst = tmp_to_equip.loc[tmp_to_equip.eq_type != 'one_shot'].buffs\n",
    "            tmp_lst = tmp_lst[tmp_lst.notnull()].to_list()\n",
    "            tmp_lst = list(map(lambda x: x.split(';'), tmp_lst))\n",
    "            tmp_lst = [item for sublist in tmp_lst for item in sublist]\n",
    "            for i in tmp_lst:\n",
    "                eval(i)\n",
    "            self.equipted = tmp_to_equip_con\n",
    "            self.hand = self.hand.iloc[~self.hand.index.isin(what), :].reset_index(drop=True)\n",
    "    def add_status(self, name, when_vanish):\n",
    "        # add statuses\n",
    "        pass\n",
    "    def update_bonus(self, n):\n",
    "        self.bonus += n\n",
    "    def update_escape(self, n):\n",
    "        self.escape += n\n",
    "    def die(self, marauder=True):\n",
    "        equipted_to_give = pd.concat([self.hand, self.equiped])\n",
    "        self.equiped = empty_treasure\n",
    "        self.hand = empty_hand\n",
    "        if marauder:\n",
    "            self.give(equipted_to_give)\n",
    "    def give(self, what, make_decision=False):\n",
    "        pass\n",
    "    def upgrade_equipted(self):\n",
    "        pass\n",
    "    def make_decision(self, what, choices=None, n=None):\n",
    "        decision = []\n",
    "        if what == 'fight':\n",
    "            decision = np.where(roll_dice()>=3, True, False)\n",
    "        elif what == 'bad_stuff':\n",
    "            decision = np.where(roll_dice()>=3, True, False)\n",
    "        elif what == 'lose_card':\n",
    "            if choices == 'hand':\n",
    "                decision = [random.randint(0, self.hand.shape[0]-1) for i in range(n)]\n",
    "            elif choices == 'equiped':\n",
    "                decision = [random.randint(0, self.equiped.shape[0]-1) for i in range(n)]\n",
    "        elif what == 'lose_pclass_race':\n",
    "            if choices == 'race':\n",
    "                decision = random.randint(0, len(self.race)-1)\n",
    "            elif choices == 'pclass':\n",
    "                decision = random.randint(0, len(self.pclass)-1)\n",
    "        elif what == 'give':\n",
    "            if choices == 'hand':\n",
    "                decision = [random.randint(0, self.hand.shape[0]-1) for i in range(n)]\n",
    "            elif choices == 'equiped':\n",
    "                decision = [random.randint(0, self.equiped.shape[0]-1) for i in range(n)]\n",
    "        else:\n",
    "            decision = []\n",
    "        return decision\n",
    "        # add_pclass_race -- which pclass / race to add\n",
    "        # give -- which card(s) to give\n",
    "        # one_shot -- use or not\n",
    "        # one_shot-what -- what to use\n",
    "        # sell - to sell or not\n",
    "        # sell_what -- what to sell\n",
    "        # equip - to equip or not\n",
    "        # equip_what"
   ]
  },
  {
   "cell_type": "code",
   "execution_count": 6,
   "id": "bc20bbd6",
   "metadata": {
    "ExecuteTime": {
     "end_time": "2022-10-17T20:13:55.671829Z",
     "start_time": "2022-10-17T20:13:55.183571Z"
    }
   },
   "outputs": [],
   "source": [
    "GLOBAL_STUFF_FLAME = ['hot_pepper_sauce', 'flaming_armor', 'oil_of_boiling']\n",
    "GLOBAL_STUFF_BELOW_ARMOR = ['spiky_knees', 'kneepads_of_allure', 'spiked_codpiece']\n",
    "GLOBAL_LEVEL_MIN = 0\n",
    "GLOBAL_LEVEL_MAX = 0\n",
    "\n",
    "monsters = pd.read_excel('example.xlsx', sheet_name='monsters')\n",
    "curses = pd.read_excel('example.xlsx', sheet_name='curses')\n",
    "races = pd.read_excel('example.xlsx', sheet_name='races')\n",
    "classes = pd.read_excel('example.xlsx', sheet_name='classes')\n",
    "doors_other = pd.read_excel('example.xlsx', sheet_name='doors_other')\n",
    "dect_doors = pd.concat([monsters, curses, races, classes, doors_other]).reset_index(drop=True)\n",
    "deck_treasures = pd.read_excel('example.xlsx', sheet_name='treasures')\n",
    "\n",
    "dect_doors = shuffle(dect_doors)\n",
    "deck_treasures = shuffle(deck_treasures)\n",
    "\n",
    "dect_doors_current = dect_doors.copy()\n",
    "deck_treasures_current = deck_treasures.copy()\n",
    "\n",
    "player_1 = Munchkin()"
   ]
  },
  {
   "cell_type": "code",
   "execution_count": 63,
   "id": "856d7d00",
   "metadata": {
    "ExecuteTime": {
     "end_time": "2022-10-17T20:32:32.237867Z",
     "start_time": "2022-10-17T20:32:32.218995Z"
    }
   },
   "outputs": [
    {
     "data": {
      "text/plain": [
       "True"
      ]
     },
     "execution_count": 63,
     "metadata": {},
     "output_type": "execute_result"
    }
   ],
   "source": [
    "dect_doors_current, door_card = take_cards(dect_doors_current, dect_doors, 1)\n",
    "door_card['type'].tolist()[0] == 'monster'"
   ]
  },
  {
   "cell_type": "code",
   "execution_count": 64,
   "id": "fd5ea01b",
   "metadata": {
    "ExecuteTime": {
     "end_time": "2022-10-17T20:32:34.527203Z",
     "start_time": "2022-10-17T20:32:34.514081Z"
    }
   },
   "outputs": [
    {
     "data": {
      "text/html": [
       "<div>\n",
       "<style scoped>\n",
       "    .dataframe tbody tr th:only-of-type {\n",
       "        vertical-align: middle;\n",
       "    }\n",
       "\n",
       "    .dataframe tbody tr th {\n",
       "        vertical-align: top;\n",
       "    }\n",
       "\n",
       "    .dataframe thead th {\n",
       "        text-align: right;\n",
       "    }\n",
       "</style>\n",
       "<table border=\"1\" class=\"dataframe\">\n",
       "  <thead>\n",
       "    <tr style=\"text-align: right;\">\n",
       "      <th></th>\n",
       "      <th>name</th>\n",
       "      <th>type</th>\n",
       "      <th>level</th>\n",
       "      <th>undead</th>\n",
       "      <th>before_battle</th>\n",
       "      <th>even_if_escaped</th>\n",
       "      <th>escapable</th>\n",
       "      <th>bad_stuff</th>\n",
       "      <th>reward_level</th>\n",
       "      <th>reward_treasure</th>\n",
       "      <th>buffs</th>\n",
       "      <th>race_type</th>\n",
       "    </tr>\n",
       "  </thead>\n",
       "  <tbody>\n",
       "    <tr>\n",
       "      <th>6</th>\n",
       "      <td>were_turtle</td>\n",
       "      <td>monster</td>\n",
       "      <td>3.0</td>\n",
       "      <td>False</td>\n",
       "      <td>self.monster.update_escape(+2)</td>\n",
       "      <td>NaN</td>\n",
       "      <td>True</td>\n",
       "      <td>self.player.update_pclass_race('race', n=-1)</td>\n",
       "      <td>1.0</td>\n",
       "      <td>1.0</td>\n",
       "      <td>NaN</td>\n",
       "      <td>NaN</td>\n",
       "    </tr>\n",
       "  </tbody>\n",
       "</table>\n",
       "</div>"
      ],
      "text/plain": [
       "          name     type  level undead                   before_battle  \\\n",
       "6  were_turtle  monster    3.0  False  self.monster.update_escape(+2)   \n",
       "\n",
       "  even_if_escaped escapable                                     bad_stuff  \\\n",
       "6             NaN      True  self.player.update_pclass_race('race', n=-1)   \n",
       "\n",
       "   reward_level  reward_treasure buffs race_type  \n",
       "6           1.0              1.0   NaN       NaN  "
      ]
     },
     "execution_count": 64,
     "metadata": {},
     "output_type": "execute_result"
    }
   ],
   "source": [
    "door_card"
   ]
  },
  {
   "cell_type": "code",
   "execution_count": 157,
   "id": "ffa2b54d",
   "metadata": {
    "ExecuteTime": {
     "end_time": "2022-10-17T21:02:39.047665Z",
     "start_time": "2022-10-17T21:02:39.028392Z"
    }
   },
   "outputs": [
    {
     "name": "stdout",
     "output_type": "stream",
     "text": [
      "were_turtle\n",
      "3.0\n",
      "['self.monster.update_escape(+2)']\n",
      "['nan']\n",
      "[\"self.player.update_pclass_race('race', n=-1)\"]\n"
     ]
    }
   ],
   "source": [
    "current_monster = Monster(door_card)\n",
    "current_player = Munchkin(sex='male', race = ['human', 'elf'], level = 9, equiped=pd.DataFrame(\n",
    "                dict(name=['spiked_codpiece'], type=['treasure'], eq_type=['other'],\n",
    "                     big=[False], restriction=[''],\n",
    "                     bonus=[1], hands=[''], buffs=[''], price=[''], when_lose=[''])\n",
    "            ))\n",
    "print(current_monster.name)\n",
    "print(current_monster.level)\n",
    "print(current_monster.before_battle)\n",
    "print(current_monster.even_if_escaped)\n",
    "print(current_monster.bad_stuff)\n",
    "current_monster.even_if_escaped = [\"\"]\n",
    "#current_monster.before_battle = ['self.monster.update_escape(n=2)']\n",
    "current_monster.bad_stuff = [\"self.player.update_pclass_race('race', n=-1, make_decision=True)\"]"
   ]
  },
  {
   "cell_type": "code",
   "execution_count": 158,
   "id": "6cabed7f",
   "metadata": {
    "ExecuteTime": {
     "end_time": "2022-10-17T21:02:44.021182Z",
     "start_time": "2022-10-17T21:02:44.012559Z"
    }
   },
   "outputs": [],
   "source": [
    "current_player.update_pclass_race('race', n=-1, make_decision=True)\n",
    "#current_player.race.pop(1)\n",
    "#current_player.make_decision('lose_pclass_race', choices='race', n=abs(-1))\n",
    "#current_player.race\n",
    "#n = abs(-1)\n",
    "#current_player.race\n",
    "#[random.randint(0, current_player.hand.shape[0]-1) for i in range(n)]"
   ]
  },
  {
   "cell_type": "code",
   "execution_count": 159,
   "id": "82b1cc2c",
   "metadata": {
    "ExecuteTime": {
     "end_time": "2022-10-17T21:02:54.768046Z",
     "start_time": "2022-10-17T21:02:54.739880Z"
    }
   },
   "outputs": [
    {
     "data": {
      "text/plain": [
       "['human']"
      ]
     },
     "execution_count": 159,
     "metadata": {},
     "output_type": "execute_result"
    }
   ],
   "source": [
    "current_player.race"
   ]
  },
  {
   "cell_type": "code",
   "execution_count": 91,
   "id": "a7c1cdc2",
   "metadata": {
    "ExecuteTime": {
     "end_time": "2022-10-17T20:46:27.166708Z",
     "start_time": "2022-10-17T20:46:27.139665Z"
    },
    "scrolled": true
   },
   "outputs": [
    {
     "ename": "TypeError",
     "evalue": "'bool' object is not callable",
     "output_type": "error",
     "traceback": [
      "\u001b[1;31m---------------------------------------------------------------------------\u001b[0m",
      "\u001b[1;31mTypeError\u001b[0m                                 Traceback (most recent call last)",
      "\u001b[1;32m~\\AppData\\Local\\Temp/ipykernel_17928/2842228934.py\u001b[0m in \u001b[0;36m<module>\u001b[1;34m\u001b[0m\n\u001b[0;32m      1\u001b[0m \u001b[0mcurrent_battle\u001b[0m \u001b[1;33m=\u001b[0m \u001b[0mBattle\u001b[0m\u001b[1;33m(\u001b[0m\u001b[0mcurrent_player\u001b[0m\u001b[1;33m,\u001b[0m \u001b[0mcurrent_monster\u001b[0m\u001b[1;33m)\u001b[0m\u001b[1;33m\u001b[0m\u001b[1;33m\u001b[0m\u001b[0m\n\u001b[0;32m      2\u001b[0m \u001b[0mcurrent_battle\u001b[0m\u001b[1;33m.\u001b[0m\u001b[0mbefore_battle\u001b[0m\u001b[1;33m(\u001b[0m\u001b[1;33m)\u001b[0m\u001b[1;33m\u001b[0m\u001b[1;33m\u001b[0m\u001b[0m\n\u001b[1;32m----> 3\u001b[1;33m \u001b[0mcurrent_battle\u001b[0m\u001b[1;33m.\u001b[0m\u001b[0mescape_after\u001b[0m\u001b[1;33m(\u001b[0m\u001b[1;33m)\u001b[0m\u001b[1;33m\u001b[0m\u001b[1;33m\u001b[0m\u001b[0m\n\u001b[0m\u001b[0;32m      4\u001b[0m \u001b[1;31m#current_battle.get_bad_stuff()\u001b[0m\u001b[1;33m\u001b[0m\u001b[1;33m\u001b[0m\u001b[0m\n\u001b[0;32m      5\u001b[0m \u001b[1;31m#print(current_monster.escape)\u001b[0m\u001b[1;33m\u001b[0m\u001b[1;33m\u001b[0m\u001b[0m\n",
      "\u001b[1;32m~\\AppData\\Local\\Temp/ipykernel_17928/4049301580.py\u001b[0m in \u001b[0;36mescape_after\u001b[1;34m(self)\u001b[0m\n\u001b[0;32m     29\u001b[0m                 \u001b[0meval\u001b[0m\u001b[1;33m(\u001b[0m\u001b[0mi\u001b[0m\u001b[1;33m)\u001b[0m\u001b[1;33m\u001b[0m\u001b[1;33m\u001b[0m\u001b[0m\n\u001b[0;32m     30\u001b[0m         \u001b[1;32mif\u001b[0m \u001b[0mroll_dice\u001b[0m\u001b[1;33m(\u001b[0m\u001b[1;33m)\u001b[0m\u001b[1;33m+\u001b[0m\u001b[0mself\u001b[0m\u001b[1;33m.\u001b[0m\u001b[0mplayer\u001b[0m\u001b[1;33m.\u001b[0m\u001b[0mescape\u001b[0m \u001b[1;33m<\u001b[0m \u001b[0mself\u001b[0m\u001b[1;33m.\u001b[0m\u001b[0mmonster\u001b[0m\u001b[1;33m.\u001b[0m\u001b[0mescape\u001b[0m\u001b[1;33m:\u001b[0m\u001b[1;33m\u001b[0m\u001b[1;33m\u001b[0m\u001b[0m\n\u001b[1;32m---> 31\u001b[1;33m             \u001b[0mself\u001b[0m\u001b[1;33m.\u001b[0m\u001b[0mget_bad_stuff\u001b[0m\u001b[1;33m(\u001b[0m\u001b[1;33m)\u001b[0m\u001b[1;33m\u001b[0m\u001b[1;33m\u001b[0m\u001b[0m\n\u001b[0m\u001b[0;32m     32\u001b[0m     \u001b[1;32mdef\u001b[0m \u001b[0mget_reward\u001b[0m\u001b[1;33m(\u001b[0m\u001b[0mself\u001b[0m\u001b[1;33m)\u001b[0m\u001b[1;33m:\u001b[0m\u001b[1;33m\u001b[0m\u001b[1;33m\u001b[0m\u001b[0m\n\u001b[0;32m     33\u001b[0m         \u001b[0mself\u001b[0m\u001b[1;33m.\u001b[0m\u001b[0mplayer\u001b[0m\u001b[1;33m.\u001b[0m\u001b[0mupdate_level\u001b[0m\u001b[1;33m(\u001b[0m\u001b[0mn\u001b[0m\u001b[1;33m=\u001b[0m\u001b[0mmonster\u001b[0m\u001b[1;33m.\u001b[0m\u001b[0mreward_level\u001b[0m\u001b[1;33m)\u001b[0m\u001b[1;33m\u001b[0m\u001b[1;33m\u001b[0m\u001b[0m\n",
      "\u001b[1;32m~\\AppData\\Local\\Temp/ipykernel_17928/4049301580.py\u001b[0m in \u001b[0;36mget_bad_stuff\u001b[1;34m(self)\u001b[0m\n\u001b[0;32m     38\u001b[0m         \u001b[1;32mfor\u001b[0m \u001b[0mi\u001b[0m \u001b[1;32min\u001b[0m \u001b[0mself\u001b[0m\u001b[1;33m.\u001b[0m\u001b[0mmonster\u001b[0m\u001b[1;33m.\u001b[0m\u001b[0mbad_stuff\u001b[0m\u001b[1;33m:\u001b[0m\u001b[1;33m\u001b[0m\u001b[1;33m\u001b[0m\u001b[0m\n\u001b[0;32m     39\u001b[0m             \u001b[1;32mif\u001b[0m \u001b[0mi\u001b[0m \u001b[1;33m!=\u001b[0m \u001b[1;34m\"\"\u001b[0m\u001b[1;33m:\u001b[0m\u001b[1;33m\u001b[0m\u001b[1;33m\u001b[0m\u001b[0m\n\u001b[1;32m---> 40\u001b[1;33m                 \u001b[0meval\u001b[0m\u001b[1;33m(\u001b[0m\u001b[0mi\u001b[0m\u001b[1;33m)\u001b[0m\u001b[1;33m\u001b[0m\u001b[1;33m\u001b[0m\u001b[0m\n\u001b[0m",
      "\u001b[1;32m<string>\u001b[0m in \u001b[0;36m<module>\u001b[1;34m\u001b[0m\n",
      "\u001b[1;32m~\\AppData\\Local\\Temp/ipykernel_17928/876866439.py\u001b[0m in \u001b[0;36mupdate_pclass_race\u001b[1;34m(self, what, n, which, make_decision)\u001b[0m\n\u001b[0;32m     31\u001b[0m     \u001b[1;32mdef\u001b[0m \u001b[0mupdate_pclass_race\u001b[0m\u001b[1;33m(\u001b[0m\u001b[0mself\u001b[0m\u001b[1;33m,\u001b[0m \u001b[0mwhat\u001b[0m\u001b[1;33m,\u001b[0m \u001b[0mn\u001b[0m\u001b[1;33m=\u001b[0m\u001b[1;36m1\u001b[0m\u001b[1;33m,\u001b[0m \u001b[0mwhich\u001b[0m\u001b[1;33m=\u001b[0m\u001b[1;32mNone\u001b[0m\u001b[1;33m,\u001b[0m \u001b[0mmake_decision\u001b[0m\u001b[1;33m=\u001b[0m\u001b[1;32mFalse\u001b[0m\u001b[1;33m)\u001b[0m\u001b[1;33m:\u001b[0m\u001b[1;33m\u001b[0m\u001b[1;33m\u001b[0m\u001b[0m\n\u001b[0;32m     32\u001b[0m         \u001b[1;32mif\u001b[0m \u001b[0mn\u001b[0m \u001b[1;33m==\u001b[0m \u001b[1;33m-\u001b[0m\u001b[1;36m1\u001b[0m \u001b[1;32mand\u001b[0m \u001b[0mmake_decision\u001b[0m\u001b[1;33m:\u001b[0m\u001b[1;33m\u001b[0m\u001b[1;33m\u001b[0m\u001b[0m\n\u001b[1;32m---> 33\u001b[1;33m             \u001b[0mwhich\u001b[0m \u001b[1;33m=\u001b[0m \u001b[0mmake_decision\u001b[0m\u001b[1;33m(\u001b[0m\u001b[1;34m'lose_pclass_race'\u001b[0m\u001b[1;33m,\u001b[0m \u001b[0mchoices\u001b[0m\u001b[1;33m=\u001b[0m\u001b[1;34m'self.'\u001b[0m\u001b[1;33m+\u001b[0m\u001b[0mwhat\u001b[0m\u001b[1;33m)\u001b[0m\u001b[1;33m\u001b[0m\u001b[1;33m\u001b[0m\u001b[0m\n\u001b[0m\u001b[0;32m     34\u001b[0m             \u001b[0meval\u001b[0m\u001b[1;33m(\u001b[0m\u001b[1;34m'self.'\u001b[0m\u001b[1;33m+\u001b[0m\u001b[0mwhat\u001b[0m\u001b[1;33m+\u001b[0m\u001b[1;34m'.pop(self.'\u001b[0m\u001b[1;33m+\u001b[0m\u001b[0mwhat\u001b[0m\u001b[1;33m+\u001b[0m\u001b[1;34m'.index(which))'\u001b[0m\u001b[1;33m)\u001b[0m\u001b[1;33m\u001b[0m\u001b[1;33m\u001b[0m\u001b[0m\n\u001b[0;32m     35\u001b[0m         \u001b[1;32melif\u001b[0m \u001b[0mn\u001b[0m \u001b[1;33m==\u001b[0m \u001b[1;33m-\u001b[0m\u001b[1;36m1\u001b[0m \u001b[1;32mand\u001b[0m \u001b[1;32mnot\u001b[0m\u001b[1;33m(\u001b[0m\u001b[0mmake_decision\u001b[0m\u001b[1;33m)\u001b[0m\u001b[1;33m:\u001b[0m\u001b[1;33m\u001b[0m\u001b[1;33m\u001b[0m\u001b[0m\n",
      "\u001b[1;31mTypeError\u001b[0m: 'bool' object is not callable"
     ]
    }
   ],
   "source": [
    "current_battle = Battle(current_player, current_monster)\n",
    "current_battle.before_battle()\n",
    "current_battle.escape_after()\n",
    "#current_battle.get_bad_stuff()\n",
    "#print(current_monster.escape)\n",
    "print(current_player.race)"
   ]
  },
  {
   "cell_type": "code",
   "execution_count": null,
   "id": "1b1de7b7",
   "metadata": {
    "ExecuteTime": {
     "end_time": "2022-10-12T16:43:57.275252Z",
     "start_time": "2022-10-12T16:43:56.966415Z"
    },
    "code_folding": []
   },
   "outputs": [],
   "source": [
    "#self.decisions = dict(fight=1, one_hot=1, auto_escape=1)\n",
    "#self.coefs = dict(fight=0.5, one_hot=0.5, auto_escape=0.1)\n",
    "#self.learning_rate = dict(fight=0.005, one_hot=0.005, auto_escape=0.005)\n",
    "# Set queue:\n",
    "current_player = player_1\n",
    "fight_coef = 0.5\n",
    "\n",
    "# Prepare:\n",
    "# sell\n",
    "# equip\n",
    "\n",
    "# Main game:\n",
    "dect_doors_current, door_card = take_cards(dect_doors_current, dect_doors, 1)\n",
    "if door_card['type'].tolist()[0] == 'monster':\n",
    "    print('Battle begins..')\n",
    "    # current_monster = Monster(door_card)\n",
    "    # current_player = Battle(current_player, current_monster).escape_before().fight().player\n",
    "elif door_card['type'].tolist()[0] == 'curse':\n",
    "    print('Curse..')\n",
    "    #current_player.curse(door_card)\n",
    "# if bozestwennoye wmeszatelstwo\n",
    "else:\n",
    "    print('Taking door card..')\n",
    "    current_player.update_hand(n=1, h_type='doors', new=door_card)\n",
    "    dect_doors.drop(dect_doors[dect_doors.name!=door_card.name[0]].index, inplace=True)\n",
    "    if (current_player.decisions['fight'] > fight_coef and \n",
    "    'monster' in current_player.hand['doors']['type'].tolist()):\n",
    "        print('Battle begins..')\n",
    "        current_player = battle(current_player, 'which to fight???') # !!!!!!!!!!!!!!!!!!!!\n",
    "    else:\n",
    "        print('Taking door card..')\n",
    "        dect_doors_current, door_card = take_cards(dect_doors_current, dect_doors, 1)\n",
    "        current_player.update_hand(n=1, h_type='doors', new=door_card)\n",
    "        dect_doors.drop(dect_doors[dect_doors.name!=door_card.name[0]].index, inplace=True)\n",
    "        \n",
    "# Finalize:\n",
    "# Update decisions:\n",
    "# Check convergence:"
   ]
  }
 ],
 "metadata": {
  "kernelspec": {
   "display_name": "Python 3 (ipykernel)",
   "language": "python",
   "name": "python3"
  },
  "language_info": {
   "codemirror_mode": {
    "name": "ipython",
    "version": 3
   },
   "file_extension": ".py",
   "mimetype": "text/x-python",
   "name": "python",
   "nbconvert_exporter": "python",
   "pygments_lexer": "ipython3",
   "version": "3.10.0"
  },
  "toc": {
   "base_numbering": 1,
   "nav_menu": {},
   "number_sections": true,
   "sideBar": true,
   "skip_h1_title": false,
   "title_cell": "Table of Contents",
   "title_sidebar": "Contents",
   "toc_cell": false,
   "toc_position": {},
   "toc_section_display": true,
   "toc_window_display": false
  },
  "varInspector": {
   "cols": {
    "lenName": 16,
    "lenType": 16,
    "lenVar": 40
   },
   "kernels_config": {
    "python": {
     "delete_cmd_postfix": "",
     "delete_cmd_prefix": "del ",
     "library": "var_list.py",
     "varRefreshCmd": "print(var_dic_list())"
    },
    "r": {
     "delete_cmd_postfix": ") ",
     "delete_cmd_prefix": "rm(",
     "library": "var_list.r",
     "varRefreshCmd": "cat(var_dic_list()) "
    }
   },
   "types_to_exclude": [
    "module",
    "function",
    "builtin_function_or_method",
    "instance",
    "_Feature"
   ],
   "window_display": false
  }
 },
 "nbformat": 4,
 "nbformat_minor": 5
}
