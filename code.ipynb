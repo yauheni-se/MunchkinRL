{
 "cells": [
  {
   "cell_type": "code",
   "execution_count": 1,
   "id": "7f2a7285",
   "metadata": {
    "ExecuteTime": {
     "end_time": "2022-10-13T15:23:19.968703Z",
     "start_time": "2022-10-13T15:23:18.979527Z"
    }
   },
   "outputs": [],
   "source": [
    "import numpy as np\n",
    "import pandas as pd"
   ]
  },
  {
   "cell_type": "code",
   "execution_count": 2,
   "id": "d7dc9601",
   "metadata": {
    "ExecuteTime": {
     "end_time": "2022-10-13T15:23:22.024011Z",
     "start_time": "2022-10-13T15:23:22.009484Z"
    }
   },
   "outputs": [],
   "source": [
    "def roll_dice():\n",
    "    return(np.random.randint(1,7))\n",
    "\n",
    "def shuffle(df):\n",
    "    return(df.sample(frac=1).reset_index(drop=True))\n",
    "\n",
    "def take_cards(df, df_total, n=1):\n",
    "    if (df.shape[0] == 0):\n",
    "        df = shuffle(df_total)\n",
    "    card = df.head(n)\n",
    "    df.drop(index=df.index[:n], axis=0, inplace=True)\n",
    "    return(df, card)"
   ]
  },
  {
   "cell_type": "code",
   "execution_count": null,
   "id": "6ba01c31",
   "metadata": {},
   "outputs": [],
   "source": [
    "class Deck(DataFrame):\n",
    "    def shuffle(self):\n",
    "        self.sample(frac=1).reset_index(drop=True)"
   ]
  },
  {
   "cell_type": "code",
   "execution_count": 3,
   "id": "4e6fd660",
   "metadata": {
    "ExecuteTime": {
     "end_time": "2022-10-13T15:23:32.014232Z",
     "start_time": "2022-10-13T15:23:31.994227Z"
    },
    "code_folding": []
   },
   "outputs": [],
   "source": [
    "class Battle:\n",
    "    def __init__(self, player, monster):\n",
    "        self.monster = monster\n",
    "        self.player = player\n",
    "    def escape_before(self):\n",
    "        check = [i for i in self.monster.before_battle\n",
    "                 if i.startswith('self.monster.kill')]\n",
    "        if len(check)!=0:\n",
    "            self.monster.kill()\n",
    "    def fight(self):\n",
    "        if (self.player.bonus > self.monster.level):\n",
    "            self.get_reward()\n",
    "        else:\n",
    "            while (self.player.decision['one_hot'] > self.player.coef['one_hot'] \n",
    "                   and '<there are one hots in the hand>'):\n",
    "                # select what cards and how many to use?\n",
    "                # how to actualize????\n",
    "                self.player.decision['one_hot'] -= (self.player.decision['one_hot'] *\n",
    "                                                    self.player.learning_rate['one_hot'])\n",
    "                # how to actualize????\n",
    "                if (self.player.bonus > self.monster.level):\n",
    "                    self.get_reward()\n",
    "                    break\n",
    "            if (self.player.bonus < self.monster.level):        \n",
    "                self.escape_after()\n",
    "    \n",
    "    def escape_after(self, n=roll_dice()):\n",
    "        #self.monster.even_if_escaped() -- evaluate\n",
    "        if n+self.player.escape < self.monster.escape:\n",
    "            self.get_bad_stuff()\n",
    "    def get_reward(self):\n",
    "        self.player.update_level(+monster.reward_level)\n",
    "        self.player.update_hand(n=monster.reward_treasure, h_type='treasures',\n",
    "                                new=take_cards(df, df_total, n=monster.reward_treasure))\n",
    "        # !!!! somehow pass card decks + remove from deck -- maybe create another class:)\n",
    "    def get_bad_stuff(self):\n",
    "        for i in self.monster.bad_stuff:\n",
    "            eval(i)"
   ]
  },
  {
   "cell_type": "code",
   "execution_count": 4,
   "id": "75647729",
   "metadata": {
    "ExecuteTime": {
     "end_time": "2022-10-13T15:23:33.493739Z",
     "start_time": "2022-10-13T15:23:33.483213Z"
    },
    "code_folding": []
   },
   "outputs": [],
   "source": [
    "class Monster:\n",
    "    def __init__(self, df):\n",
    "        self.name = df.name[0]\n",
    "        self.level = df.level[0]\n",
    "        self.undead = df.undead[0]\n",
    "        self.before_battle = df.before_battle[0].split(';')\n",
    "        self.even_if_escaped = df.even_if_escaped[0].split(';')\n",
    "        if df.escapable[0]:\n",
    "            self.escape = 4\n",
    "        else:\n",
    "            self.escape = 10e7\n",
    "        self.bad_stuff = df.bad_stuff[0].split(';')\n",
    "        self.reward_level = df.reward_level[0]\n",
    "        self.reward_treasure = df.reward_treasure[0]\n",
    "        self.multiplier = 1\n",
    "    def update_level(self, n, condition=None, update_type=None):\n",
    "        if update_type == 'monster_buff' and self.multiplier > 1:\n",
    "            n *= self.multiplier\n",
    "        if condition is None:\n",
    "            self.level += n\n",
    "        elif eval(condition):\n",
    "            self.level += n\n",
    "    def kill(self, condition=None, treasures=True, levels=True):\n",
    "        if condition is None:\n",
    "            self.level = -10e7\n",
    "        elif eval(condition):\n",
    "            self.level = -10e7\n",
    "            \n",
    "        if not treasures:\n",
    "            self.reward_treasure = 0\n",
    "        if not levels:\n",
    "            self.reward_level = 0\n",
    "    def update_escape(n, condition=None):\n",
    "        if condition is None:\n",
    "            self.escape += n\n",
    "        elif eval(condition):\n",
    "            self.escape += n\n",
    "    def update_multiplier(n):\n",
    "        self.multiplier += n\n",
    "    def update_treasures(n, condition=None):\n",
    "        if condition is None:\n",
    "            self.reward_treasure += n\n",
    "        elif eval(condition):\n",
    "            self.reward_treasure += n\n",
    "        \n",
    "    def update_reward_level(n, condition=None):\n",
    "        if condition is None:\n",
    "            self.reward_level += n\n",
    "        elif eval(condition):\n",
    "            self.reward_level += n"
   ]
  },
  {
   "cell_type": "code",
   "execution_count": 5,
   "id": "2e67bcef",
   "metadata": {
    "ExecuteTime": {
     "end_time": "2022-10-13T15:23:35.111959Z",
     "start_time": "2022-10-13T15:23:35.091900Z"
    },
    "code_folding": [
     45,
     53,
     90,
     92,
     94,
     98,
     100,
     102
    ]
   },
   "outputs": [],
   "source": [
    "class Munchkin:\n",
    "    def __init__(self, name='John Doe', sex='female', \n",
    "                 level=1, pclass=[], race=['human'],\n",
    "                 hand=dict(doors=pd.DataFrame(),\n",
    "                           treasures=pd.DataFrame(\n",
    "                               dict(name=[], eq_type=[], big=[], restriction=[],\n",
    "                                    bonus=[], hands=[], buffs=[], price=[]))),\n",
    "                 equiped=pd.DataFrame(\n",
    "                     dict(name=[], eq_type=[], big=[], restriction=[],\n",
    "                          bonus=[], hands=[], buffs=[], price=[]))\n",
    "                ):\n",
    "        self.decisions = dict(fight=1, one_hot=1, auto_escape=1)\n",
    "        self.coefs = dict(fight=0.5, one_hot=0.5, auto_escape=0.1)\n",
    "        self.learning_rate = dict(fight=0.005, one_hot=0.005, auto_escape=0.005)\n",
    "        self.name = name\n",
    "        self.sex = sex\n",
    "        self.pclass = pclass\n",
    "        self.race = race\n",
    "        self.level = level\n",
    "        self.escape = 0\n",
    "        self.bonus = level\n",
    "        self.equiped = equiped\n",
    "        self.hand = hand\n",
    "        self.limits = dict(armor=1, boots=1, head=1, hands=2, big=1, cards=5)\n",
    "    def update_level(self, n, condition=None):\n",
    "        if condition is None:\n",
    "            self.level += n\n",
    "        elif eval(condition):\n",
    "            self.level += n\n",
    "        \n",
    "        if self.level < 1:\n",
    "            self.level = 1\n",
    "    def update_pclass_race(self, what, make_decision=False, n=1, which=0):\n",
    "        # which could be index selected by model or particular class/list of classes\n",
    "        if n == -1 and select_yourself:\n",
    "            eval('self.'+what+'.pop(self.'+what+'.index(which))')\n",
    "        elif n == -1 and not(select_yourself):\n",
    "            eval('self.'+what+'.pop(which)')\n",
    "        elif n == -2:\n",
    "            eval('self.'+what+'.clear()')\n",
    "        elif n > 0:\n",
    "            eval('self.'+what+'.extend(which)')\n",
    "            \n",
    "        if what=='race' and len(self.race) == 0:\n",
    "            self.race = ['human']\n",
    "    def update_sex(self, change=False):\n",
    "        if change == False:\n",
    "            if self.sex == 'male':\n",
    "                self.sex = 'female'\n",
    "            else:\n",
    "                self.sex = 'male'\n",
    "        else:\n",
    "            self.sex = []\n",
    "    def update_limit(self, which, n):\n",
    "        self.limits[which] += n\n",
    "    def update_hand(self, n=None, condition=None, everything=False, \n",
    "                    make_decision=True, new=None):\n",
    "        # treasures, doors, any\n",
    "        \n",
    "        # how many is determined by which (list of indices)\n",
    "        # can be a player's decision or other players' decision\n",
    "        if n > 0:\n",
    "            self.hand[h_type] = pd.concat([self.hand[h_type], new]).reset_index(drop=True)\n",
    "        else:\n",
    "            if condition is not None:\n",
    "                self.hand[h_type] = self.hand[h_type].loc[eval(condition), :]\n",
    "            elif everything:\n",
    "                if h_type == 'treasures':\n",
    "                    self.hand[h_type] = pd.DataFrame(\n",
    "                        dict(name=[], eq_type=[], big=[], restriction=[],\n",
    "                             bonus=[], hands=[], buffs=[], price=[])\n",
    "                    )\n",
    "                else:\n",
    "                    self.hand[h_type] = pd.DataFrame(\n",
    "                        dict()\n",
    "                    )\n",
    "            else:\n",
    "                self.hand[h_type] = self.hand[h_type].iloc[which, :]\n",
    "    def lose_equiped(self, condition=None, everything=False, make_decision=True):\n",
    "        # how many is determined by which (list of indices)\n",
    "        # can be a player's decision or other players' decision\n",
    "        if condition is not None:\n",
    "            self.equiped = self.equiped.loc[eval(condition), :]\n",
    "        elif everything:\n",
    "            self.equiped = pd.DataFrame(\n",
    "                dict(name=[], eq_type=[], big=[], restriction=[],\n",
    "                     bonus=[], hands=[], buffs=[], price=[])\n",
    "            )\n",
    "        else:\n",
    "            self.equiped = self.equiped.iloc[which, :]\n",
    "    def equip(self, new_eq=None):\n",
    "        pass\n",
    "    def use_one_shot(self):\n",
    "        pass\n",
    "    def sell(self):\n",
    "        pass\n",
    "    def update_temp_bonus(self):\n",
    "        pass\n",
    "    def die(self, marauder=True):\n",
    "        pass\n",
    "    def give_away(self):\n",
    "        pass\n",
    "    def make_decision(self):\n",
    "        pass"
   ]
  },
  {
   "cell_type": "code",
   "execution_count": 6,
   "id": "bc20bbd6",
   "metadata": {
    "ExecuteTime": {
     "end_time": "2022-10-13T15:23:37.511849Z",
     "start_time": "2022-10-13T15:23:37.130355Z"
    }
   },
   "outputs": [],
   "source": [
    "monsters = pd.read_excel('example.xlsx',sheet_name=0)\n",
    "races = pd.read_excel('example.xlsx',sheet_name=2)\n",
    "\n",
    "dect_doors = pd.concat([monsters, races]).reset_index(drop=True)\n",
    "deck_treasures = pd.read_excel('example.xlsx',sheet_name=1)\n",
    "\n",
    "dect_doors = shuffle(dect_doors)\n",
    "deck_treasures = shuffle(deck_treasures)\n",
    "\n",
    "dect_doors_current = dect_doors.copy()\n",
    "deck_treasures_current = deck_treasures.copy()\n",
    "\n",
    "player_1 = Munchkin()"
   ]
  },
  {
   "cell_type": "code",
   "execution_count": 1,
   "id": "1d33c384",
   "metadata": {
    "ExecuteTime": {
     "end_time": "2022-10-14T18:01:57.054612Z",
     "start_time": "2022-10-14T18:01:57.048070Z"
    }
   },
   "outputs": [],
   "source": [
    "a = \"self.monster.update_level(+5, condition='\\'elf\\'  in self.player.race');self.monster.update_level(+5, condition='\\'halfling\\' in self.player.race');self.monster.update_level(+5, condition='\\'bard\\' in self.player.plcass')\""
   ]
  },
  {
   "cell_type": "code",
   "execution_count": 3,
   "id": "e1fa38ff",
   "metadata": {
    "ExecuteTime": {
     "end_time": "2022-10-14T18:02:19.863464Z",
     "start_time": "2022-10-14T18:02:19.854937Z"
    }
   },
   "outputs": [
    {
     "data": {
      "text/plain": [
       "[\"self.monster.update_level(+5, condition=''elf'  in self.player.race')\",\n",
       " \"self.monster.update_level(+5, condition=''halfling' in self.player.race')\",\n",
       " \"self.monster.update_level(+5, condition=''bard' in self.player.plcass')\"]"
      ]
     },
     "execution_count": 3,
     "metadata": {},
     "output_type": "execute_result"
    }
   ],
   "source": [
    "a"
   ]
  },
  {
   "cell_type": "code",
   "execution_count": null,
   "id": "1b1de7b7",
   "metadata": {
    "ExecuteTime": {
     "end_time": "2022-10-12T16:43:57.275252Z",
     "start_time": "2022-10-12T16:43:56.966415Z"
    },
    "code_folding": []
   },
   "outputs": [],
   "source": [
    "# Set queue:\n",
    "current_player = player_1\n",
    "fight_coef = 0.5\n",
    "\n",
    "# Prepare:\n",
    "# sell\n",
    "# equip\n",
    "\n",
    "# Main game:\n",
    "dect_doors_current, door_card = take_cards(dect_doors_current, dect_doors, 1)\n",
    "if door_card['type'].tolist()[0] == 'monster':\n",
    "    print('Battle begins..')\n",
    "    # current_monster = Monster(door_card)\n",
    "    # current_player = Battle(current_player, current_monster).escape_before().fight().player\n",
    "elif door_card['type'].tolist()[0] == 'curse':\n",
    "    print('Curse..')\n",
    "    #current_player.curse(door_card)\n",
    "# if bozestwennoye wmeszatelstwo\n",
    "else:\n",
    "    print('Taking door card..')\n",
    "    current_player.update_hand(n=1, h_type='doors', new=door_card)\n",
    "    dect_doors.drop(dect_doors[dect_doors.name!=door_card.name[0]].index, inplace=True)\n",
    "    if (current_player.decisions['fight'] > fight_coef and \n",
    "    'monster' in current_player.hand['doors']['type'].tolist()):\n",
    "        print('Battle begins..')\n",
    "        current_player = battle(current_player, 'which to fight???') # !!!!!!!!!!!!!!!!!!!!\n",
    "    else:\n",
    "        print('Taking door card..')\n",
    "        dect_doors_current, door_card = take_cards(dect_doors_current, dect_doors, 1)\n",
    "        current_player.update_hand(n=1, h_type='doors', new=door_card)\n",
    "        dect_doors.drop(dect_doors[dect_doors.name!=door_card.name[0]].index, inplace=True)\n",
    "        \n",
    "# Finalize:\n",
    "# Update decisions:\n",
    "# Check convergence:"
   ]
  },
  {
   "cell_type": "code",
   "execution_count": 17,
   "id": "4fb21bbc",
   "metadata": {
    "ExecuteTime": {
     "end_time": "2022-10-13T16:11:01.876010Z",
     "start_time": "2022-10-13T16:11:01.866501Z"
    }
   },
   "outputs": [
    {
     "ename": "SyntaxError",
     "evalue": "can't use starred expression here (Temp/ipykernel_10152/1265840399.py, line 2)",
     "output_type": "error",
     "traceback": [
      "\u001b[1;36m  File \u001b[1;32m\"C:\\Users\\Yauheni\\AppData\\Local\\Temp/ipykernel_10152/1265840399.py\"\u001b[1;36m, line \u001b[1;32m2\u001b[0m\n\u001b[1;33m    n = *3\u001b[0m\n\u001b[1;37m        ^\u001b[0m\n\u001b[1;31mSyntaxError\u001b[0m\u001b[1;31m:\u001b[0m can't use starred expression here\n"
     ]
    }
   ],
   "source": [
    "n = 2\n",
    "n =3\n",
    "n"
   ]
  },
  {
   "cell_type": "code",
   "execution_count": 9,
   "id": "32398a9a",
   "metadata": {
    "ExecuteTime": {
     "end_time": "2022-10-13T15:24:40.923833Z",
     "start_time": "2022-10-13T15:24:40.913624Z"
    }
   },
   "outputs": [],
   "source": [
    "current_player = player_1\n",
    "dect_doors_current, door_card = take_cards(dect_doors_current, dect_doors, 1)\n"
   ]
  },
  {
   "cell_type": "code",
   "execution_count": 13,
   "id": "314b333e",
   "metadata": {
    "ExecuteTime": {
     "end_time": "2022-10-13T15:26:39.365070Z",
     "start_time": "2022-10-13T15:26:39.355558Z"
    }
   },
   "outputs": [
    {
     "name": "stdout",
     "output_type": "stream",
     "text": [
      "3.0\n",
      "8.0\n"
     ]
    }
   ],
   "source": [
    "current_monster = Monster(door_card)\n",
    "print(current_monster.level)\n",
    "current_monster.update_level(5, 'current_player.level == 1')\n",
    "print(current_monster.level)"
   ]
  },
  {
   "cell_type": "code",
   "execution_count": 15,
   "id": "1016f0e8",
   "metadata": {
    "ExecuteTime": {
     "end_time": "2022-10-13T15:35:35.614327Z",
     "start_time": "2022-10-13T15:35:35.594869Z"
    },
    "scrolled": true
   },
   "outputs": [
    {
     "data": {
      "text/plain": [
       "\"race=='halfling'\""
      ]
     },
     "execution_count": 15,
     "metadata": {},
     "output_type": "execute_result"
    }
   ],
   "source": [
    "'race==\\'halfling\\''"
   ]
  },
  {
   "cell_type": "code",
   "execution_count": null,
   "id": "f3864cd5",
   "metadata": {
    "ExecuteTime": {
     "end_time": "2022-10-12T13:46:00.181182Z",
     "start_time": "2022-10-12T13:46:00.167165Z"
    }
   },
   "outputs": [],
   "source": [
    "\n",
    "            \n",
    "\n",
    "def battle(player, monster):\n",
    "    \n",
    "    kill_result = \n",
    "    \n",
    "        \n",
    "    if (kill_result == 'not killed' or len(check)==0):\n",
    "        for i in monster.before_battle:\n",
    "            eval(i)\n",
    "        if player.bonus > monster.level[0]:\n",
    "            kill_result = 'killed'\n",
    "        else:\n",
    "            while player.decision['use_one_hot'] and 'amount of one hot >0':\n",
    "                # use one_hot\n",
    "                # update coefs\n",
    "                # update reward\n",
    "    \n",
    "    if (kill_result == 'not killed'):\n",
    "        # try escape\n",
    "        # if was not successfull\n",
    "        # for i in monster.bad_stuff:\n",
    "           # eval(i)\n",
    "    \n",
    "    # finally, take cards or suffer bitch :)\n",
    "    # update \n",
    "    # update reward\n",
    "    return player"
   ]
  },
  {
   "cell_type": "code",
   "execution_count": 18,
   "id": "a2504e47",
   "metadata": {
    "ExecuteTime": {
     "end_time": "2022-10-13T16:47:04.135246Z",
     "start_time": "2022-10-13T16:47:04.128241Z"
    }
   },
   "outputs": [
    {
     "data": {
      "text/plain": [
       "3"
      ]
     },
     "execution_count": 18,
     "metadata": {},
     "output_type": "execute_result"
    }
   ],
   "source": [
    "from datetime import datetime\n",
    "datetime.now().weekday\n",
    "# 4 - pt\n",
    "# 5 - sb\n",
    "# 7 - ws"
   ]
  },
  {
   "cell_type": "code",
   "execution_count": null,
   "id": "6acbe899",
   "metadata": {
    "ExecuteTime": {
     "end_time": "2022-10-12T13:58:01.120721Z",
     "start_time": "2022-10-12T13:58:01.103196Z"
    }
   },
   "outputs": [],
   "source": [
    "# simplification:\n",
    "# only 1 player\n",
    "# no distinguish between open /close\n",
    "\n",
    "# drop class/race every single moment!!!! use cards any single momet - make decision!"
   ]
  }
 ],
 "metadata": {
  "kernelspec": {
   "display_name": "Python 3 (ipykernel)",
   "language": "python",
   "name": "python3"
  },
  "language_info": {
   "codemirror_mode": {
    "name": "ipython",
    "version": 3
   },
   "file_extension": ".py",
   "mimetype": "text/x-python",
   "name": "python",
   "nbconvert_exporter": "python",
   "pygments_lexer": "ipython3",
   "version": "3.10.0"
  },
  "toc": {
   "base_numbering": 1,
   "nav_menu": {},
   "number_sections": true,
   "sideBar": true,
   "skip_h1_title": false,
   "title_cell": "Table of Contents",
   "title_sidebar": "Contents",
   "toc_cell": false,
   "toc_position": {},
   "toc_section_display": true,
   "toc_window_display": false
  },
  "varInspector": {
   "cols": {
    "lenName": 16,
    "lenType": 16,
    "lenVar": 40
   },
   "kernels_config": {
    "python": {
     "delete_cmd_postfix": "",
     "delete_cmd_prefix": "del ",
     "library": "var_list.py",
     "varRefreshCmd": "print(var_dic_list())"
    },
    "r": {
     "delete_cmd_postfix": ") ",
     "delete_cmd_prefix": "rm(",
     "library": "var_list.r",
     "varRefreshCmd": "cat(var_dic_list()) "
    }
   },
   "types_to_exclude": [
    "module",
    "function",
    "builtin_function_or_method",
    "instance",
    "_Feature"
   ],
   "window_display": false
  }
 },
 "nbformat": 4,
 "nbformat_minor": 5
}
